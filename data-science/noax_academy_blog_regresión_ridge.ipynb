{
  "nbformat": 4,
  "nbformat_minor": 0,
  "metadata": {
    "colab": {
      "name": "blog_noax_regresion_2.ipynb",
      "provenance": [],
      "collapsed_sections": []
    },
    "kernelspec": {
      "name": "python3",
      "display_name": "Python 3"
    },
    "language_info": {
      "name": "python"
    }
  },
  "cells": [
    {
      "cell_type": "markdown",
      "metadata": {
        "id": "e-9ttjEt6EFQ"
      },
      "source": [
        "![noaxacademy.png](data:image/png;base64,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)"
      ]
    },
    {
      "cell_type": "markdown",
      "metadata": {
        "id": "ozD4G4_de2Zz"
      },
      "source": [
        "# La regresión ridge (o cómo evitar el overfitting)\n",
        "#### **Álvaro Méndez Civieta** \n",
        "\n",
        "Este cuaderno complementa al artículo del blog de NOAX Academy. ¡Léelo ahora!"
      ]
    },
    {
      "cell_type": "markdown",
      "metadata": {
        "id": "1_Ng-N4AZ-0E"
      },
      "source": [
        "¡Hola amig@os de NOAX!\n",
        "\n",
        "Hoy quiero hablaros de la **regresión penalizada ridge**. Los modelos de regresión penalizada son una alternativa a los modelos de regresión muy utilizada cuando el número de variables en el modelo es muy alto, o las variables están muy correlacionadas entre ellas. Aquí veremos:\n",
        "* Qué es el sesgo y qué es el overfitting de un modelo;\n",
        "* Qué es esto de los modelos ridge;\n",
        "* Su formulación matemática;\n",
        "* Un ejemplo con python.\n",
        "\n",
        "Recordad que en [la entrada anterior del blog](https://blog.noaxacademy.com/el-abc-del-machine-learning-regresion-lineal-con-python/) ya introdujimos los  modelos de regresión, ¡si no la habéis leído os la recomiendo! Para entender bien qué es la regresión ridge tenemos que hablar antes de dos aspectos clave de los modelos de machine learning: la **varianza** (y el riesgo de overfitting), y el **sesgo**."
      ]
    },
    {
      "cell_type": "markdown",
      "metadata": {
        "id": "bUr7kH8svaku"
      },
      "source": [
        "## Qué es el overfitting\n",
        "\n",
        "Empecemos hablando de uno de los problemas más comunes en machine learning: el **riesgo de sobre-ajustar**, o en inglés, de hacer overfitting. Cuando construimos un modelo, tenemos que tener en cuenta dos factores: por un lado, queremos que las predicciones que nos de el modelo sean lo más precisas posible, es decir, que **el modelo tenga el menor error posible**. Sin embargo, por otro lado sabemos que **las observaciones de nuestro conjunto de datos seguramente tengan errores**: o bien errores de medida, o bien o estén influenciadas por algún aspecto que no tenemos en cuenta en el modelo. Encontramos estos errores por ejemplo:\n",
        "* En un conjuntos de datos con información biomédica, las máquinas usadas para tomar las mediciones introducen errores.\n",
        "* En un conjunto de datos con información sobre el precio de venta de las casas, este precio puede verse influido por variables que no aparezcan en el conjunto de datos.\n",
        "\n",
        "Así que con nuestro modelo queremos conseguir un compromiso, **queremos que sea capaz de captar la tendencia general de los datos, sin dejarse influir por los errores especificos** del conjunto con el que lo entrenamos. Con un ejemplo se entiende todo mejor,"
      ]
    },
    {
      "cell_type": "markdown",
      "metadata": {
        "id": "N1rzmk-_eqyl"
      },
      "source": [
        "![Relación lineal vs relación no lineal](http://blog.noaxacademy.com/wp-content/uploads/2021/12/ejemplo_overfitting.svg)\n"
      ]
    },
    {
      "cell_type": "markdown",
      "metadata": {
        "id": "L2zV9ALf37-d"
      },
      "source": [
        "**Figura 1 |** A la izquierda, modelo infra ajustado, en el centro, modelo sobre ajustado, a la derecha modelo bien ajustado.\n",
        "\n",
        "Imaginaos que tenemos el conjunto de datos que sigue la tendencia curva de la imagen superior y queremos construir un modelo para hacer predicciones. \n",
        "\n",
        "* Si nuestro modelo es muy general, estaremos en la situación de la imagen izquierda, haciendo underfitting, y no estaremos captando realmente el comportamiento de los datos.\n",
        "\n",
        "* Pero si nuestro modelo es demasiado poco general, estaremos en la situación de la imagen central, haciendo overfitting, y estaremos incluyendo en el modelo los errores de las observaciones. Es decir, un cambio en nuestro conjunto de datos producirá un cambio muy grande en el modelo.\n",
        "\n",
        "* Está claro que el mejor modelo es el de la imagen de la derecha, porque capta el comportamiento general (esa tendencia curva) sin dejarse influir por todos los errores específicos de las observaciones.\n",
        "\n",
        "Ahora bien, la varianza en un modelo nos dice cómo de variable es el modelo. Cuanta mayor es la varianza, más cambios bruscos, subidas y bajadas veremos en las predicciones del modelo. Si la varianza es muy pequeña, el modelo es muy estable y está infra ajustado. Pero si es muy grande, el modelo es demasiado variable y está sobre ajustado. Buscamos un punto medio entre las dos."
      ]
    },
    {
      "cell_type": "markdown",
      "metadata": {
        "id": "Po-TcGle9Apm"
      },
      "source": [
        "## Qué es el sesgo\n",
        "\n",
        "Vale, ya sabemos lo que es el overfitting y la varianza de un modelo, veamos ahora qué es el sesgo. El sesgo mide la distancia que hay entre el valor esperado de nuestro modelo y el verdadero valor,\n",
        "\n",
        "$$\\text{sesgo}(\\hat\\beta)=\\mathbb{E}(\\hat\\beta)-\\beta$$\n",
        "\n",
        "Pero de nuevo, esto se entiende mucho mejor con una imagen,"
      ]
    },
    {
      "cell_type": "markdown",
      "metadata": {
        "id": "S24_vr7tY7DX"
      },
      "source": [
        "<div>\n",
        "<img src=\"http://blog.noaxacademy.com/wp-content/uploads/2021/12/variance_bias_noax.png\" width=\"500\"/>\n",
        "</div>"
      ]
    },
    {
      "cell_type": "markdown",
      "metadata": {
        "id": "URuzpUeGA1WM"
      },
      "source": [
        "**Figura 2 |** Comparativa de modelos con varianza grande vs pequeña y modelos con sesgo vs insesgados.\n",
        "\n",
        "Imagina una diana, e imagina que la solución verdadera $\\beta$ es el centro de la diana. Cuando construimos un modelo, obtenemos una estimación $\\hat\\beta$, y podemos pensar en esa estimación como lanzar un dardo contra esa diana. Si nuestro modelo no tiene sesgo (es insesgado), los dardos que tiremos caerán alrededor del centro de la diana (parte superior de la imagen). Pero si el modelo que construímos tiene un sesgo, los dardos  no caerán alrededor del centro de la diana, sino alrededor de otro sitio (parte inferior de la imagen). Así que está claro que **es preferible que nuestro modelo sea insesgado** para que nuestra estimación esté alrededor del verdadero valor.\n"
      ]
    },
    {
      "cell_type": "markdown",
      "metadata": {
        "id": "LqSNW61E3zok"
      },
      "source": [
        "## El mejor estimador insesgado..\n",
        "\n",
        "Pues bien, veamos cómo se relaciona todo esto con la regresión lineal. La ecuación del modelo de regresión es,\n",
        "\n",
        "$$y = X\\beta + \\varepsilon$$\n",
        "\n",
        "Donde $y$ es el vector de la variable respuesta (la que queremos predecir), $X$ es la matrz con las variables predictoras (que usaremos para hacer las predicciones) y $\\beta$ es el vector con los parámetros del modelo de regresión (los valores de la ecuación de la recta). Recordemos que para encontrar la solución óptima del modelo de regresión resolvíamos la ecuación,\n",
        "\n",
        "$$\n",
        "J(\\beta)=\\text{min}\\left\\{\\frac{1}{n}\\sum_{i=1}^n(y_i-\\hat{y}_i)^2\\right\\}\n",
        "$$\n",
        "\n",
        "Si no recuerdas de donde viene esta fórmula no te preocupes, puedes leerlo [en el post anterior](https://blog.noaxacademy.com/el-abc-del-machine-learning-regresion-lineal-con-python/). No quiero entrar en muchos detalles técnicos, pero es importante saber que matemáticamente, la solución del modelo de regresión lineal es el **mejor estimador lineal insesgado**, es decir, es el que tiene la menor varianza de entre todos los posibles tipos de modelos lineales insesgados. Esto en principio es bueno... ¿o no?\n",
        "\n",
        "Aquí entra en juego el equilibrio entre el sesgo y la varianza, lo que en inglés se llama el **variance bias tradeoff**.\n"
      ]
    },
    {
      "cell_type": "markdown",
      "metadata": {
        "id": "cSNW6RLOTKfy"
      },
      "source": [
        "## El equilibrio entre sesgo y varianza\n",
        "\n",
        "Cuando se construye un modelo de machine learning, existe un equilibrio entre su sesgo y su varianza. \n",
        "* Si el sesgo disminuye, la varianza aumenta;\n",
        "* Si la varianza disminuye, el sesgo aumenta.\n",
        "\n",
        "Y además, también se sabe que el aumentar la complejidad del modelo, es decir, **aumentar el número de variables** aumenta la varianza (y disminuye el sesgo). La siguiente imagen resume todo esto:"
      ]
    },
    {
      "cell_type": "markdown",
      "metadata": {
        "id": "38Mt8b2cVR0L"
      },
      "source": [
        "<div>\n",
        "<img src=\"http://blog.noaxacademy.com/wp-content/uploads/2021/12/variance_bias_tradeoff_noax.png\" width=\"600\"/>\n",
        "</div>\n"
      ]
    },
    {
      "cell_type": "markdown",
      "metadata": {
        "id": "jug93IbwV5vH"
      },
      "source": [
        "**Figura 3 |** Equilibrio entre sesgo y varianza de un modelo de machine learning.\n",
        "\n",
        "## La penalización ridge\n",
        "\n",
        "Y aquí llegamos a **la clave para entender la regresión ridge**: Hemos dicho que el modelo de regresión normal es el mejor estimador insesgado, pero ¿puede ser que consigamos mejores predicciones con un modelo que tenga un poco de sesgo, pero que a cambio reduzca mucho la varianza?\n",
        "\n",
        "La respuesta, como te puedes imaginar, es si, y eso es precisamente lo que hace la penalización ridge. Matemáticamente, los modelos ridge resuelven la ecuación,\n",
        "\n",
        "$$\n",
        "J(\\beta)=\\text{min}\\left\\{\\frac{1}{n}\\sum_{i=1}^n(y_i-\\hat{y}_i)^2+\\alpha\\sum_{j=1}^p\\beta_j^2\\right\\}\n",
        "$$\n",
        "\n",
        "Esta ecuación tiene dos partes, la primera parte es la misma que en un modelo de regresión no penalizado, y la segunda parte es la que se conoce como **penalización ridge**. La solución del modelo ridge serán aquellos valores de $\\beta$ que minimicen la función $J(\\beta)$.\n",
        "\n",
        "**¿Pero cómo funciona esta penalización?** Date cuenta de que si los valores de $\\beta$ fuesen muy grandes, el valor de la penalización ridge sería muy grande, pero lo que queremos es buscar el valor mínimo de $J(\\beta)$. Es decir, que con esta penalización estamos \"forzando\" a que los coeficientes $\\beta$ no sean excesivamente grandes. De forma intuitiva, valores pequeños de los coeficientes harán que la varianza sea menor. \n",
        "\n",
        "## Optimización del modelo\n",
        "\n",
        "Fíjate por último en ese $\\alpha$ que aparece en la fórmula de la penalización. Eso es lo que se conoce como un hiper parámetro del modelo de regresión, y es un coeficiente que nosotros, como analistas de datos, debemos ajustar. Valores muy grandes de $\\alpha$ hacen que la importancia de la penalización sea mayor, y que los coeficientes $\\beta$ se hagan más pequeños para conseguir minimizar $J(\\beta)$, y valores muy pequeños de $\\alpha$ hacen que la penalización no tenga tanta importancia. De hecho, si $\\alpha=0$ (este es el valor más pequeño que puede tomar) estaremos resolviendo un modelo no penalizado.\n",
        "\n",
        "En la práctica, para encontrar el valor óptimo de $\\alpha$ suele considerarse una lista de valores posibles, y se resuelve el modelo con todos ellos. Por último se selecciona el $\\alpha$ que minimice el error.\n",
        "\n",
        "## Pasemos a `python`\n",
        "Veamos cómo resolver un modelo de regresión ridge en Python. Para ello usaremos un conjunto de datos de $442$ pacientes con diabetes. En este conjunto de datos se midieron $10$ variables, la edad, sexo, índice de masa corporal, presión sanguínea, y otras seis mediciones de serum en sangre, así como una variable adicional que mide el progreso de la enfermedad en los pacientes. Nuestro objetivo es usar las $10$ variables predictoras para construir un modelo que prediga el progreso de la enfermedad.\n",
        "\n",
        "En primer lugar cargamos las librerías de python que utilizaremos en esta sección:"
      ]
    },
    {
      "cell_type": "code",
      "metadata": {
        "id": "liCw2Pjf5nzn"
      },
      "source": [
        "import numpy as np \n",
        "from sklearn.preprocessing import StandardScaler\n",
        "from sklearn.datasets import load_diabetes\n",
        "from sklearn.linear_model import LinearRegression, Ridge\n",
        "from sklearn.model_selection import train_test_split\n",
        "from sklearn.metrics import mean_squared_error"
      ],
      "execution_count": 6,
      "outputs": []
    },
    {
      "cell_type": "markdown",
      "metadata": {
        "id": "44tyC6oze0RR"
      },
      "source": [
        "Ahora cargamos los datos usando la función `load_diabetes()`, y los escalamos para que tengan media $0$ y desviación típica $1$."
      ]
    },
    {
      "cell_type": "code",
      "metadata": {
        "id": "sWSmTE3ML0mb"
      },
      "source": [
        "diabetes = load_diabetes()\n",
        "x = diabetes.data\n",
        "y = diabetes.target\n",
        "\n",
        "# Split into train / test\n",
        "x_train, x_test, y_train, y_test = train_test_split(x, y, test_size=100, random_state=42)\n",
        "\n",
        "# Scale\n",
        "scaler = StandardScaler()\n",
        "x_train = scaler.fit_transform(x_train)\n",
        "x_test = scaler.transform(x_test)"
      ],
      "execution_count": 9,
      "outputs": []
    },
    {
      "cell_type": "markdown",
      "metadata": {
        "id": "DAf0J4Iqfoyg"
      },
      "source": [
        "Construimos en primer lugar un modelo de regresión no penalizado usando la parte de entrenamiento (train) de nuestros datos, y después evaluamos el modelo calculando su error cuadrático medio en la parte de test."
      ]
    },
    {
      "cell_type": "code",
      "metadata": {
        "id": "0qdCpghAIWkb"
      },
      "source": [
        "linear_model = LinearRegression()\n",
        "linear_model.fit(x_train, y_train)\n",
        "\n",
        "lm_prediction = linear_model.predict(x_test)\n",
        "lm_error = mean_squared_error(y_test, lm_prediction)"
      ],
      "execution_count": 10,
      "outputs": []
    },
    {
      "cell_type": "markdown",
      "metadata": {
        "id": "LWn7_6XDf1iP"
      },
      "source": [
        "Ahora vamos a construir los modelos de regresión ridge. Para eso definimos un vector de posibles valores para $\\alpha$. Lo habitual con estos parámetros es definirlos usando escala logarítmica. En este ejemplo consideramos 500 posibles valores entre $10^{-10}$ y $10^2$. Para cada posible valor de $\\alpha$, entrenamos el modelo en la parte de train, y lo testeamos en la parte de test."
      ]
    },
    {
      "cell_type": "code",
      "metadata": {
        "id": "Wyqk-ob0JReE"
      },
      "source": [
        "alpha = 10**np.linspace(-10, 2, 500)\n",
        "error_array = np.zeros(len(alpha))\n",
        "\n",
        "for idx, a in enumerate(alpha):\n",
        "  ridge_regression = Ridge(alpha=a)\n",
        "  ridge_regression.fit(x_train, y_train)\n",
        "  prediction = ridge_regression.predict(x_test)\n",
        "  error_array[idx] = mean_squared_error(y_test, prediction)"
      ],
      "execution_count": 11,
      "outputs": []
    },
    {
      "cell_type": "code",
      "metadata": {
        "colab": {
          "base_uri": "https://localhost:8080/"
        },
        "id": "SycSraI1huOb",
        "outputId": "f510d680-95b3-42dc-e28e-a72d22bd90e8"
      },
      "source": [
        "# Optimal alpha\n",
        "smallest_error = np.min(error_array)\n",
        "optimal_alpha = alpha[np.argmin(error_array)]\n",
        "\n",
        "print(f'El valor óptimo de alpha es: {np.round(optimal_alpha, 2)}, con el que se obtiene un error de {np.round(smallest_error, 2)}')"
      ],
      "execution_count": 19,
      "outputs": [
        {
          "output_type": "stream",
          "name": "stdout",
          "text": [
            "El valor óptimo de alpha es: 26.48, con el que se obtiene un error de 2684.2\n"
          ]
        }
      ]
    },
    {
      "cell_type": "markdown",
      "metadata": {
        "id": "0ZsVMJX0gg8G"
      },
      "source": [
        "Por último vamos a representar los errores que hemos obtenido con los distintos modelos. En el eje vertical representamos el error, y en el eje horizontal representamos el hiper parámetro $\\alpha$. La línea verde es el error que tenemos usando el modelo de regresión no penalizado, y la línea azul es el error de los modelos ridge en función del valor de $\\alpha$. Como podemos ver, usando un modelo de regresión ridge conseguimos un error de predicción menor que con un modelo no penalizado para valores de $\\alpha$ menores de 80 (aproximadamente), y el valor óptimo de $\\alpha$ con el que se obtiene el menor error es 26.48.\n",
        "\n"
      ]
    },
    {
      "cell_type": "code",
      "metadata": {
        "colab": {
          "base_uri": "https://localhost:8080/",
          "height": 282
        },
        "id": "8tXXvtgzQcSi",
        "outputId": "384fb282-8cb3-4bb0-9c5a-c1c53531e5bf"
      },
      "source": [
        "import matplotlib.pyplot as plt\n",
        "\n",
        "plt.plot(alpha, error_array)\n",
        "plt.axhline(y=lm_error, color='g', linestyle='--')"
      ],
      "execution_count": 14,
      "outputs": [
        {
          "output_type": "execute_result",
          "data": {
            "text/plain": [
              "<matplotlib.lines.Line2D at 0x7f4d0f88dfd0>"
            ]
          },
          "metadata": {},
          "execution_count": 14
        },
        {
          "output_type": "display_data",
          "data": {
            "image/png": "[encoded data removed]",
            "text/plain": [
              "<Figure size 432x288 with 1 Axes>"
            ]
          },
          "metadata": {
            "needs_background": "light"
          }
        }
      ]
    },
    {
      "cell_type": "markdown",
      "metadata": {
        "id": "-kCLJ4B4ihqu"
      },
      "source": [
        "Aquí termina nuestra introducción los modelos de regresión ridge, pero si quereis ver qué es la regresión lasso, las diferencias entre ridge y lasso y mucho más... ¡estad atentos a los siguientes posts!\n",
        "\n",
        "## Acerca del autor\n",
        "###**Álvaro Méndez Civieta**\n",
        "Álvaro Méndez obtuvo el título en matemáticas en 2015 por la Universidad de Oviedo, y el master en Big Data Analytics por la Universidad Carlos III en 2016. Después de un año trabajando en la consultora Accenture se unió al programa de doctorado de ingeniería matemática de la Universidad Carlos III, donde continúa trabajando en el desarrollo de modelos de selección de variables en espacios de alta dimensión, con aplicaciones al campo de la genética.\n"
      ]
    }
  ]
}