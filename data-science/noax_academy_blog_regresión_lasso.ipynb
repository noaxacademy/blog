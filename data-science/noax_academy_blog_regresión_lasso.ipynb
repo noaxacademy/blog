{
  "nbformat": 4,
  "nbformat_minor": 0,
  "metadata": {
    "colab": {
      "name": "blog_noax_regression_3.ipynb",
      "provenance": [],
      "collapsed_sections": []
    },
    "kernelspec": {
      "name": "python3",
      "display_name": "Python 3"
    },
    "language_info": {
      "name": "python"
    }
  },
  "cells": [
    {
      "cell_type": "markdown",
      "source": [
        "![noaxacademy.png](data:image/png;base64,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)"
      ],
      "metadata": {
        "id": "WeW2MfBKjduM"
      }
    },
    {
      "cell_type": "markdown",
      "source": [
        "# ¡Selecciona variables con la regresión lasso!\n",
        "#### **Álvaro Méndez Civieta** \n",
        "\n",
        "Este cuaderno complementa al artículo del blog de NOAX Academy. ¡Léelo ahora!"
      ],
      "metadata": {
        "id": "_JKWPXq_joVR"
      }
    },
    {
      "cell_type": "markdown",
      "source": [
        "¡Hola amig@os de NOAX!\n",
        "\n",
        "En este post hablaremos de la técnica de selección de variables más famosa del mundo: **la regresión lasso**. Aquí veremos:\n",
        "\n",
        "* Por qué surge la regresión lasso.\n",
        "* Su formulación matemática.\n",
        "* Intuitivamente, ¿cómo funciona?\n",
        "* Un ejemplo en python comparando un modelo de regresión no penalizada, la regresión ridge, y la regresión lasso.\n",
        "\n",
        "Recordad que en una entrada anterior del blog [ya hablamos de los modelos de regresión lineal](https://blog.noaxacademy.com/el-abc-del-machine-learning-regresion-lineal-con-python/), y en otra entrada [hablamos de los modelos de regresión penalizada ridge.](https://blog.noaxacademy.com/la-regresion-ridge-con-python-o-como-evitar-el-overfitting/) ¡Si no las habéis leído os las recomiendo! "
      ],
      "metadata": {
        "id": "lUDnxktuj7NC"
      }
    },
    {
      "cell_type": "markdown",
      "source": [
        "## Los problemas de alta dimensión\n",
        "\n",
        "Los modelos de regresión llevan usandose desde hace décadas para hacer predicciones. Por ejemplo, los bancos los usaban para predecir la fiabilidad de sus clientes a la hora de devolver los pagos. En esa época, el número de observaciones en la base de datos (en nuestro ejemplo, los clientes del banco) era bastante mayor que el número de variables (la información socioeconómica que el banco tuviese de cada cliente). Sin embargo, **en los últimos años la cantidad de información disponible se ha disparado**, haciendo que sea más y más común trabajar con bases de datos en las que **el número de variables es muy grande**. Esto ocurre por ejemplo cuando se trabaja con bases de datos biomédicas en las que se mide la información genética de un paciente. Para cada paciente (esa sería nuestra observación) tenemos miles de variables (sus genes). Pero también ocurre cuando trabajamos con imágenes, información económica etc.\n",
        "\n"
      ],
      "metadata": {
        "id": "HymyPICqyJFI"
      }
    },
    {
      "cell_type": "markdown",
      "source": [
        "![high_dim](http://blog.noaxacademy.com/wp-content/uploads/2021/12/high_dimension_vs_low.png)"
      ],
      "metadata": {
        "id": "PO1eM-8i2l8q"
      }
    },
    {
      "cell_type": "markdown",
      "source": [
        "**Figura 1 |** La forma de la matriz de datos en problemas de baja y de alta dimensión. Las columnas son las variables y las filas son las observaciones.\n",
        "\n",
        "Esto es lo que llamamos el **problema de la alta dimensión**. Y realmente es un problema, porque el hecho de tener más información disponible no implica que toda esa información esté directamente relacionada con las prediccicones que nosotros queramos hacer. Es decir, al aumentar el número de variables en el modelo es muy posible que **parte de esas variables no aporten nada útil**, que simplemente sean ruido en el modelo. Es más, matemáticamente la situación se complica especialmente cuando el número de variables es mayor que el de observaciones, porque **en esa situación los modelos de regresión tradicionales directamente no son resolubles.**\n"
      ],
      "metadata": {
        "id": "NBIhKnlKzkxY"
      }
    },
    {
      "cell_type": "markdown",
      "source": [
        "## La matemática de la regresión lasso\n",
        "\n",
        "La solución a todo este problema es usar modelos de regresión penalizados. [En la entrada anterior ya vimos la penalización ridge]((https://blog.noaxacademy.com/la-regresion-ridge-con-python-o-como-evitar-el-overfitting/) ), una de las penalizaciones más utilizadas. Sin embargo, **la penalización ridge no es eficaz cuando el número de variables es muy grande porque es incapaz de seleccionar las variables más importantes.** Queremos utilizar una penalización que sea capaz de seleccionar, de entre todas las variables de la base de datos, aquellas que sean más importantes. Y aquí es donde entra el least absolute shrinkage and selection operator, o lasso para los amigos. El lasso resuelve la ecuación,\n",
        "\n",
        "$$\n",
        "J(\\beta)=\\text{min}\\left\\{\\frac{1}{n}\\sum_{i=1}^n(y_i-\\hat{y}_i)^2+\\alpha\\sum_{j=1}^p|\\beta_j|\\right\\}\n",
        "$$\n",
        "\n",
        "Todos los que hayais estado atentos al blog vereis que la ecuación es muy parecida a la de la regresión ridge. El único cambio (pero uno importante) es que **la regresión ridge es una penalización sobre el valor al cuadrado** de los coeficientes, y el **lasso es una penalización sobre el valor absoluto.**"
      ],
      "metadata": {
        "id": "100MsSTk3TKE"
      }
    },
    {
      "cell_type": "markdown",
      "source": [
        "## Intuitivamente... ¿cómo funciona?\n",
        "\n",
        "Vamos a ver cómo funcionan el ridge y el lasso, y por qué con un cambio tan pequeño el lasso es capaz de seleccionar variables. Y como siempre os digo, con una imagen todo se entiende mejor. "
      ],
      "metadata": {
        "id": "E2DGupQc8HDV"
      }
    },
    {
      "cell_type": "markdown",
      "source": [
        "![regresion_unpenalized](http://blog.noaxacademy.com/wp-content/uploads/2021/12/red_elipsoids.png)"
      ],
      "metadata": {
        "id": "4EZFZz738bjt"
      }
    },
    {
      "cell_type": "markdown",
      "source": [
        "**Figura 2 |** Modelo de regresión con dos variables $\\beta_1$ y $\\beta_2$. Los elipsoides rojos son las lineas de contorno del error según nos alejamos del valor óptimo $\\hat\\beta$.\n",
        "\n",
        "Imaginemos que en nuestra base de datos solo tenemos dos variables $x_1$ y $x_2$ y para cada variable tenemos un coeficiente de regresión $\\beta_1$ y $\\beta_2$. La solución del modelo de regresión no penalizado es $\\hat\\beta$. Ahora imaginemos que vamos dando distintos valores a $\\beta_1$ y $\\beta_2$, y para cada combinación de valores comprobamos cual sería el error de predicción de nuestro modelo, Eso es lo que vemos en la **Figura 2**. Cada punto de esos elipsoides rojos es una posible combinación de $\\beta_1$ y $\\beta_2$ asociada a un mismo valor del error. Cuanto más lejos estamos del valor óptimo, $\\hat\\beta$, mayor es el error. Veamos cómo influyen las penalizaciones aquí."
      ],
      "metadata": {
        "id": "TUXUYELD-9mf"
      }
    },
    {
      "cell_type": "markdown",
      "source": [
        "![ridge_lasso](http://blog.noaxacademy.com/wp-content/uploads/2021/12/lasso_ridge_pens.png)"
      ],
      "metadata": {
        "id": "oLHBadr_AsMr"
      }
    },
    {
      "cell_type": "markdown",
      "source": [
        "**Figura 3 |** Lado izquierdo: penalización lasso. Lado derecho: penalización ridge.\n",
        "\n",
        "En la parte derecha de la **Figura 3** podemos ver la **penalización ridge.** Gráficamente la suma de los coeficientes al cuadrado se representa como un círculo, por lo que esta penalización tiene la forma de círculo azul de la imagen. **La solución óptima del modelo de regresión ridge será el primer punto en el que los elipsoides rojos toquen al círculo azul.** A efectos prácticos, lo que ridge hará será reducir el valor de todos los coeficientes, pero de una forma más o menos proporcional, es decir, no eliminará ningún coeficiente. En este caso las predicciones con el modelo ridge utilizan ambas variables $x_1$ y $x_2$.\n",
        "\n",
        "Por otro lado, a la izquierda tenemos la **penalización lasso.** Gráficamente la suma de los valores absolutos se puede representar como un rombo, así que esta penalización tiene esa forma de rombo azul de la imagen izquierda. Y nuevamente **la solución de la regresión lasso será el primer punto en que los elipsoides rojos toquen al rombo azul.** Y aquí viene lo importante: observad que en la imagen, la solución óptima del modelo lasso coincide con un vértice del rombo, es decir es un punto en el que $\\beta_1=0$. Aquí a efectos prácticos estamos seleccionando $x_2$ como la variable más importante y estamos diciendo que $x_1$ no es importante para hacer predicciones, ya que no la usamos.\n",
        "\n",
        "Así es como lasso realiza la selección de variables. Aquellas variables que no sean importantes para hacer predicciones tendrán un coeficiente $\\beta=0$ y las que sean importantes tendrán coeificientes distintos de $0$."
      ],
      "metadata": {
        "id": "Liq99AMgFzgf"
      }
    },
    {
      "cell_type": "markdown",
      "source": [
        "## Pasemos a `python`\n",
        "\n",
        "Ahora que ya entendemos cómo funciona el lasso, vamos a comparar en `python` un modelo de regresión no penalizada, un modelo ridge y un modelo lasso analizando un conjunto de datos con muchas variables. Empecemos cargando todas las librerías que necesitaremos."
      ],
      "metadata": {
        "id": "QgdSX8HJI3F5"
      }
    },
    {
      "cell_type": "code",
      "execution_count": null,
      "metadata": {
        "id": "Xs8xvP-iXgy4"
      },
      "outputs": [],
      "source": [
        "import numpy as np\n",
        "import matplotlib.pyplot as plt\n",
        "\n",
        "from sklearn.datasets import make_regression\n",
        "from sklearn.linear_model import LinearRegression, Ridge, Lasso\n",
        "from sklearn.model_selection import train_test_split\n",
        "from sklearn.metrics import mean_squared_error"
      ]
    },
    {
      "cell_type": "markdown",
      "source": [
        "Vamos a generar un conjunto de datos usando la función `make_regression`. Nuestro conjunto de datos tendrá 1000 observaciones y 200 variables. Pero de todas las variables, solo 10 afectarán realmente a la variable respuesta, y el resto será simplemente relleno. Es decir, la ecuación de nuestro modelo será,\n",
        "\n",
        "$$y=\\beta_0+x_1\\beta_1+\\ldots+x_{10}\\beta_{10}+x_{11}0+\\ldots+x_{200}0+\\varepsilon$$\n",
        "\n",
        "Con este conjunto, veremos cómo el modelo no penalizado y el modelo ridge hacen sus predicciones usando todas las variables, incluso las 190 que no están relacionadas con la respuesta, pero el modelo lasso sí que detecta las variables importantes."
      ],
      "metadata": {
        "id": "Bq0Cf7o8JkyF"
      }
    },
    {
      "cell_type": "code",
      "source": [
        "# Generar datos\n",
        "x, y, true_beta = make_regression(\n",
        "  n_samples=1000, n_features=200, n_informative=10, n_targets=1, \n",
        "  bias=50.0, noise=3.0, shuffle=True, coef=True, random_state=42)\n",
        "\n",
        "# Dividir en train / test\n",
        "x_train, x_test, y_train, y_test = train_test_split(x, y, test_size=0.25, random_state=42)"
      ],
      "metadata": {
        "id": "GAI33iwPgtgq"
      },
      "execution_count": null,
      "outputs": []
    },
    {
      "cell_type": "markdown",
      "source": [
        "Ahora resolvemos el modelo de regresión no penalizado, y obtenemos sus predicciones y el error de predicción. Los almacenamos para representarlos luego junto a los de ridge y lasso."
      ],
      "metadata": {
        "id": "IOnbC-TgLBdw"
      }
    },
    {
      "cell_type": "code",
      "source": [
        "linear_model = LinearRegression()\n",
        "linear_model.fit(x_train, y_train)\n",
        "\n",
        "lm_prediction = linear_model.predict(x_test)\n",
        "lm_error = mean_squared_error(y_test, lm_prediction)"
      ],
      "metadata": {
        "id": "K58WOiXvin4N"
      },
      "execution_count": null,
      "outputs": []
    },
    {
      "cell_type": "markdown",
      "source": [
        "Definimos una lista de posibles valores para el hiper parámetro $\\alpha$ de la regresión ridge y resolvemos un modelo con cada valor de $\\alpha$. Después seleccionamos el modelo con el menor error de predicción. Recordad que si $\\alpha=0$ resolvemos un modelo no penalizado, y cuanto mayor es $\\alpha$, mayor es el efecto de la penalización, es decir, más pequeños serán los coeficientes del modelo de regresión, pero nunca serán exactamente $0$."
      ],
      "metadata": {
        "id": "M6VFp8GILIfY"
      }
    },
    {
      "cell_type": "code",
      "source": [
        "alpha = np.r_[0, 10**np.linspace(-10, 0, 500)]\n",
        "error_ridge = np.zeros(len(alpha))\n",
        "\n",
        "for idx, a in enumerate(alpha):\n",
        "  # Ridge regression\n",
        "  ridge_regression = Ridge(alpha=a)\n",
        "  ridge_regression.fit(x_train, y_train)\n",
        "  prediction = ridge_regression.predict(x_test)\n",
        "  error_ridge[idx] = mean_squared_error(y_test, prediction)"
      ],
      "metadata": {
        "id": "RUi6679mirFu"
      },
      "execution_count": null,
      "outputs": []
    },
    {
      "cell_type": "markdown",
      "source": [
        "Hacemos lo mismo con el modelo lasso. Resolvemos un modelo para cada posible valor de $\\alpha$ y seleccionamos el modelo con el menor error. Observad que si $\\alpha=0$ estaremos resolviendo un modelo no penalizado. Y cuanto mayor es $\\alpha$ mayor es la penalización. Si fuese demasiado grande tendríamos un modelo en el que todos los coeficientes valen $0$ y no seleccionamos ninguna variable."
      ],
      "metadata": {
        "id": "gtTnescUPgIB"
      }
    },
    {
      "cell_type": "code",
      "source": [
        "error_lasso = np.zeros(len(alpha))\n",
        "\n",
        "for idx, a in enumerate(alpha):\n",
        "  # Lasso regression\n",
        "  lasso_regression = Lasso(alpha=a)\n",
        "  lasso_regression.fit(x_train, y_train)\n",
        "  prediction = lasso_regression.predict(x_test)\n",
        "  error_lasso[idx] = mean_squared_error(y_test, prediction)"
      ],
      "metadata": {
        "colab": {
          "base_uri": "https://localhost:8080/"
        },
        "id": "3hyAJuaZLXSa",
        "outputId": "c6df3236-4606-4c78-9ff5-b457aa0977c9"
      },
      "execution_count": null,
      "outputs": [
        {
          "output_type": "stream",
          "name": "stderr",
          "text": [
            "/usr/local/lib/python3.7/dist-packages/ipykernel_launcher.py:6: UserWarning: With alpha=0, this algorithm does not converge well. You are advised to use the LinearRegression estimator\n",
            "  \n",
            "/usr/local/lib/python3.7/dist-packages/sklearn/linear_model/_coordinate_descent.py:648: UserWarning: Coordinate descent with no regularization may lead to unexpected results and is discouraged.\n",
            "  coef_, l1_reg, l2_reg, X, y, max_iter, tol, rng, random, positive\n"
          ]
        }
      ]
    },
    {
      "cell_type": "markdown",
      "source": [
        "Veamos ahora cual ha sido el menor error obtenido con ridge y con lasso, y comparemoslo con el modelo no penalizado."
      ],
      "metadata": {
        "id": "O_Sr0A7JUjdr"
      }
    },
    {
      "cell_type": "code",
      "source": [
        "plt.plot(alpha, error_ridge, color='r', label='Ridge')\n",
        "plt.plot(alpha, error_lasso, color='b', label='Lasso')\n",
        "plt.axhline(y=lm_error, color='g', label='No penalizado')\n",
        "plt.legend()"
      ],
      "metadata": {
        "id": "r4jc-6VvixJ6",
        "colab": {
          "base_uri": "https://localhost:8080/",
          "height": 282
        },
        "outputId": "ef135990-6e89-48d2-d1c0-767762eee58e"
      },
      "execution_count": null,
      "outputs": [
        {
          "output_type": "execute_result",
          "data": {
            "text/plain": [
              "<matplotlib.legend.Legend at 0x7f27c7b9edd0>"
            ]
          },
          "metadata": {},
          "execution_count": 37
        },
        {
          "output_type": "display_data",
          "data": {
            "image/png": "[encoded data removed]",
            "text/plain": [
              "<Figure size 432x288 with 1 Axes>"
            ]
          },
          "metadata": {
            "needs_background": "light"
          }
        }
      ]
    },
    {
      "cell_type": "code",
      "source": [
        "# Optimal alpha ridge\n",
        "smallest_error_ridge = np.min(error_ridge)\n",
        "optimal_alpha_ridge = alpha[np.argmin(error_ridge)]\n",
        "\n",
        "# Optimal alpha lasso\n",
        "smallest_error_lasso = np.min(error_lasso)\n",
        "optimal_alpha_lasso = alpha[np.argmin(error_lasso)]\n",
        "\n",
        "print(f'El error del modelo no penalizado es: {np.round(lm_error, 2)}.')\n",
        "print(f'El error óptimo con el modelo ridge es: {np.round(smallest_error_ridge, 2)}.')\n",
        "print(f'El error óptimo con el modelo lasso es: {np.round(smallest_error_lasso, 2)}')"
      ],
      "metadata": {
        "id": "EiPgx8sOiuxb",
        "colab": {
          "base_uri": "https://localhost:8080/"
        },
        "outputId": "2af9c179-1691-40cb-8926-b72c5975b9ee"
      },
      "execution_count": null,
      "outputs": [
        {
          "output_type": "stream",
          "name": "stdout",
          "text": [
            "El error del modelo no penalizado es: 12.21.\n",
            "El error óptimo con el modelo ridge es: 12.17.\n",
            "El error óptimo con el modelo lasso es: 8.77\n"
          ]
        }
      ]
    },
    {
      "cell_type": "markdown",
      "source": [
        "Como era de esperar, el modelo lasso es el que tiene un menor error porque está haciendo una buena selección de las variables importantes. El modelo ridge y el modelo no penalizado están usando las 200 variables para hacer sus predicciones, y teniendo en cuenta que 190 de esas variables no son importantes, estas predicciones no son muy fiables. \n",
        "\n",
        "Por último, veamos cómo de buena ha sido la selección de variables del lasso. Para ello resolvemos de nuevo un modelo ridge y uno lasso usando ahora directamente el valor óptimo de $\\alpha$ en cada caso."
      ],
      "metadata": {
        "id": "9ffzckXfUu1a"
      }
    },
    {
      "cell_type": "code",
      "source": [
        "# Ridge regression\n",
        "ridge_regression = Ridge(alpha=optimal_alpha_ridge)\n",
        "ridge_regression.fit(x_train, y_train)\n",
        "prediction = ridge_regression.predict(x_test)\n",
        "ridge_coef = ridge_regression.coef_\n",
        "\n",
        "# Lasso regression\n",
        "lasso_regression = Lasso(alpha=optimal_alpha_lasso)\n",
        "lasso_regression.fit(x_train, y_train)\n",
        "prediction = lasso_regression.predict(x_test)\n",
        "lasso_coef = lasso_regression.coef_"
      ],
      "metadata": {
        "id": "6uzYrh8ntlpu"
      },
      "execution_count": null,
      "outputs": []
    },
    {
      "cell_type": "markdown",
      "source": [
        "Y aquí calcularemos la tasa de correctamente clasificados. Sabemos que en el conjunto de datos hay 10 coeficientes $\\beta$ que son distintos de $0$ y el resto son todos $0$ así que veamos cuantos de los coeficientes distintos de $0$ el lasso ha seleccionado como distintos de $0$ y cuantos que eran $0$ el lasso ha seleccionado como $0$. También calcularemos la tasa de correctamente clasificados del ridge, aunque aquí sabemos de antemano cual va a ser el resultado: como utiliza todas las variables para hacer predicciones, solo va a haber clasificado correctamente los $10$ coeficientes distintos de $0$."
      ],
      "metadata": {
        "id": "-15Ihk47VRgV"
      }
    },
    {
      "cell_type": "code",
      "source": [
        "tol = 1e-4\n",
        "bool_non_zero_true_beta = np.abs(true_beta) > tol\n",
        "bool_non_zero_pred_beta_lasso = np.abs(lasso_coef) > tol\n",
        "bool_non_zero_pred_beta_ridge = np.abs(ridge_coef) > tol\n",
        "\n",
        "correct_selection_rate_lasso = np.sum(bool_non_zero_true_beta == bool_non_zero_pred_beta_lasso) / len(lasso_coef)\n",
        "correct_selection_rate_ridge = np.sum(bool_non_zero_true_beta == bool_non_zero_pred_beta_ridge) / len(lasso_coef)\n",
        "\n",
        "\n",
        "print(f'Lasso. Tasa de coeficientes correctamente clasificados: {np.round(correct_selection_rate_lasso, 3)}')\n",
        "print(f'Ridge. Tasa de coeficientes correctamente clasificados: {np.round(correct_selection_rate_ridge, 3)}')"
      ],
      "metadata": {
        "colab": {
          "base_uri": "https://localhost:8080/"
        },
        "id": "cv5sTQgstQn0",
        "outputId": "e570b145-2b41-402e-86e3-a15479216e6a"
      },
      "execution_count": null,
      "outputs": [
        {
          "output_type": "stream",
          "name": "stdout",
          "text": [
            "Lasso. Tasa de coeficientes correctamente clasificados: 0.94\n",
            "Ridge. Tasa de coeficientes correctamente clasificados: 0.05\n"
          ]
        }
      ]
    },
    {
      "cell_type": "markdown",
      "source": [
        "El lasso ha seleccionado correctamente el $94\\%$ de las variables, mientras que ridge solo ha seleccionado correctamente el $5\\%$. Esto demuestra la enorme potencia del lasso cuando trabajamos con conjuntos de datos de alta dimensión, y explica también por qué se ha convertido en una de las técnicas de selección de variables más utilizadas hoy en día.\n",
        "\n",
        "Aquí termina nuestra introducción a los modelos de regresión lasso, pero si quereis aprender más sobre otras técnicas estadísticas ¡estad atentos a los siguientes posts!\n",
        "\n",
        "## Acerca del autor\n",
        "###**Álvaro Méndez Civieta**\n",
        "Álvaro Méndez obtuvo el título en matemáticas en 2015 por la Universidad de Oviedo, y el master en Big Data Analytics por la Universidad Carlos III en 2016. Después de un año trabajando en la consultora Accenture se unió al programa de doctorado de ingeniería matemática de la Universidad Carlos III, donde continúa trabajando en el desarrollo de modelos de selección de variables en espacios de alta dimensión, con aplicaciones al campo de la genética.\n"
      ],
      "metadata": {
        "id": "4hvWB0RfXbi0"
      }
    }
  ]
}