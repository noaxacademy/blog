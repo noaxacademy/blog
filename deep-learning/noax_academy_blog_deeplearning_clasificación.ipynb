{
  "cells": [
    {
      "cell_type": "markdown",
      "metadata": {
        "id": "MVGrDPr4SQI_"
      },
      "source": [
        "![noaxacademy.png](data:image/png;base64,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)"
      ]
    },
    {
      "cell_type": "markdown",
      "metadata": {
        "id": "gi2qMNHVSeoI"
      },
      "source": [
        "# Como perros y gatos: Deep Learning para marcar la diferencia\n",
        "#### **Alejandro Baldominos** \n",
        "\n",
        "Este cuaderno complementa al artículo del blog de NOAX Academy. [¡Léelo ahora!](https://blog.noaxacademy.com/como-perros-y-gatos-deep-learning-para-marcar-la-diferencia/).\n"
      ]
    },
    {
      "cell_type": "markdown",
      "metadata": {},
      "source": [
        "El aprendizaje profundo o _Deep Learning_ es una serie de técnicas de inteligencia artificial que permiten resolver muchas tareas tradicionalmente asociadas a los seres humanos, como la identificación de imágenes o el reconocimiento del lenguaje.\n",
        "\n",
        "En esta ocasión, emplearemos _redes de neuronas convolucionales_ con el fin de llevar a cabo una clasificación de imágenes. En concreto, construiremos y entrenaremos un modelo que será capaz de diferenciar imágenes de perros y de gatos. ¡Vamos a ello!"
      ]
    },
    {
      "cell_type": "markdown",
      "metadata": {
        "id": "3-4AXK3GEaoK"
      },
      "source": [
        "## El problema de clasificación\n",
        "\n",
        "Dentro del ámbito del _machine learning_, uno de las tareas más habituales es la de clasificación. En este problema, tenemos un conjunto de datos etiquetados. Algo así:\n",
        "\n",
        "![Un conjunto de datos etiquetado](https://blog.noaxacademy.com/wp-content/uploads/2021/12/noax_academy_blog_baldo_deeplearning_labelled.svg)\n",
        "**Figura 1 |** Un conjunto de datos etiquetado.\n",
        "\n",
        "Cada fila de la tabla sería una _instancia_, es decir, un dato. Las columnas hacen referencia a propiedades de dichas instancias. Por ejemplo, un caso habitual sería aquel en que las instancias son fotografías, y los atributos representan propiedades de esas fotografías, como los valores de cada uno de sus píxeles. Además, cada instancia tiene una etiqueta.\n",
        "\n",
        "¿Y a qué hace referencia esta etiqueta? Pues es, ni más ni menos, el valor que queremos predecir. Por ejemplo, supongamos que tenemos un conjunto de fotografías de perros y gatos, en el que alguien se ha molestado en indicar si cada una de las fotografías es de un perro o de un gato. Sin embargo, de repente empiezan a llegarnos fotografías que no están etiquetadas... ¡pero nosotros queremos saber si cada foto contiene un perro o un gato! Algo así:\n",
        "\n",
        "![El problema de clasificación](https://blog.noaxacademy.com/wp-content/uploads/2021/12/noax_academy_blog_baldo_deeplearning_classification.svg)\n",
        "**Figura 2 |** El problema de clasificación.\n",
        "\n",
        "Esto es lo que denominamos un «problema de clasificación», pues lo que buscamos en la práctica es clasificar una nueva instancia, a partir del conocimiento que tenemos sobre instancias anteriores (que ya habían sido etiquetadas manualmente).\n",
        "\n",
        "En términos matemáticos, solemos decir que lo que haremos es construir **una función** que acepte como entrada un vector de atributos y que devuelva la etiqueta estimada:\n",
        "\n",
        "$$\n",
        "\\begin{split} \n",
        "    f\\;:\\; \\mathbb{R}^n &\\rightarrow C \\\\                           \n",
        "    \\mathbf{x} &\\mapsto \\hat{y}\n",
        "\\end{split} \n",
        "$$\n",
        "\n",
        "Normalmente, la función $f$ depende de unos parámetros $\\Theta$, que es lo que denominamos un **modelo predictivo**.\n",
        "\n",
        "## Redes de neuronas\n",
        "\n",
        "Existen multitud de modelos predictivos, si bien las __redes de neuronas artificiales__ son uno de los más empleados, capaces de aproximar cualquier tipo de función. Una red de neuronas es una arquitectura compuesta de varias capas ocultas, cada una de ellas consistente en varias unidades (o neuronas):\n",
        "\n",
        "![Arquitectura general de una red de neuronas](https://blog.noaxacademy.com/wp-content/uploads/2021/12/noax_academy_blog_baldo_deeplearning_classification.svg)\n",
        "**Figura 3 |** Arquitectura general de una red de neuronas.\n",
        "\n",
        "Cada una de las conexiones entre neuronas tienen un parámetro o peso asociado. Empleando estos pesos, la neurona transforma la entrada recibida mediante una función de activación, que suele ser no lineal:\n",
        "\n",
        "![Función de activación de una neurona](https://blog.noaxacademy.com/wp-content/uploads/2021/12/noax_academy_blog_baldo_deeplearning_function.svg)\n",
        "**Figura 4 |** Función de activación de una neurona.\n",
        "\n",
        "Con este mecanismo, las redes de neuronas se convierten en aproximadores universales de funciones, es decir, pueden aproximar cualquier función imaginable. Para ello, se pasan los datos por la red para calcular la salida estimada $\\hat{y}$, y después se calcula el error con las etiquetas reales $y$:\n",
        "\n",
        "$$ J(\\Theta) = \\frac{1}{m}\\sum_m {-y \\log\\hat{y} - (1-y)\\log(1 - \\hat{y})} $$\n",
        "\n",
        "A continuación se emplea el cálculo diferencial para ajustar los pesos con el fin de minimizar el error, empleando el algoritmo de retropropagación. Matemáticamente, los pesos se ajustan siguiendo la dirección del gradiente del error:\n",
        "\n",
        "$$ \\Theta_i = \\Theta_i - \\frac{\\partial J(\\Theta)}{\\partial \\Theta_i} $$\n",
        "\n",
        "## Redes de neuronas convolucionales\n",
        "\n",
        "Ahora bien, este tipo de redes de neuronas (conocidas como __perceptrón multicapa__) tiene algunas desventajas. Por ejemplo, aunque puede aproximar cualquier función, en la práctica podría necesitar un número elevadísimo de capas y de neuronas para funcionar bien. Además, cuando las redes son muy profundas (es decir, tienen muchas capas), su rendimiento suele degradarse.\n",
        "\n",
        "Además, cuando tratamos con imágenes, la red es poco tolerante a cambios en la entrada, como rotaciones, traslaciones, etc. Esto puede observarse a continuación:\n",
        "\n",
        "![Modificación en la entrada de un perceptrón multicapa cuando se modifican sensiblemente los píxeles de la imagen (traslación)](https://blog.noaxacademy.com/wp-content/uploads/2021/12/noax_academy_blog_baldo_deeplearning_invariance.svg)\n",
        "**Figura 5 |** Modificación en la entrada de un perceptrón multicapa cuando se modifican sensiblemente los píxeles de la imagen (traslación).\n",
        "\n",
        "Para resolver estos problemas, entran en juego las **redes de neuronas convolucionales**. Estas redes emplean un filtro o parche de convolución, que se desliza sobre la entrada, transformándola:\n",
        "\n",
        "![Transformación de la entrada en una red de neuronas convolucional](https://blog.noaxacademy.com/wp-content/uploads/2021/12/noax_academy_blog_baldo_deeplearning_convolution.svg)\n",
        "**Figura 6 |** Transformación de la entrada en una red de neuronas convolucional.\n",
        "\n",
        "Y todo esto... ¿para qué sirve? Pues lo cierto es que esta convolución permite obtener características automáticas de la entrada. En el caso de imágenes, estas características pueden ser aristas, formas, cambios de color, etc. Por ejemplo, un sencillo filtro con tan solo dos números puede ayudar a detectar aristas verticales en una imagen:\n",
        "\n",
        "![Detección de aristas en una imagen empleando un filtro convolucional](https://blog.noaxacademy.com/wp-content/uploads/2021/12/noax_academy_blog_baldo_deeplearning_edges.svg)\n",
        "**Figura 7 |** Detección de aristas en una imagen empleando un filtro convolucional.\n",
        "\n",
        "Con todo lo que hemos aprendido, ¡vamos a ponernos manos a la obra! En el sigueinte código, diseñaremos y entrenaremos una red convolucional para distinguir fotografías de perros y de gatos. Para ello, emplearemos las siguientes librerías:\n",
        "\n",
        "+ **TensorFlow** es un __framework__ de aprendizaje automático que nos permite construir redes de neuronas. De un modo más formal, TensorFlow nos permite establecer un grafo de computación de tensores (arrays multidimensionales) que, a través de operaciones razonablemente sencillas (convolución, producto tensorial, etc.) nos permite obtener modelos complejos, que pueden ser entrenados mediante el cálculo del gradiente.\n",
        "+ **Keras** es una biblioteca que facilita el diseño y entrenamiento de modelos empleando TensorFlow, únicamente apilando capas.\n",
        "\n",
        "## Carga de los datos\n",
        "\n",
        "En primer lugar, vamos a descargar los datos que emplearemos para la clasificación:"
      ]
    },
    {
      "cell_type": "code",
      "execution_count": null,
      "metadata": {
        "colab": {
          "base_uri": "https://localhost:8080/"
        },
        "id": "ebQQQrtZaaXG",
        "outputId": "0825c994-240d-4d26-944f-e3886b952993"
      },
      "outputs": [],
      "source": [
        "!wget --no-check-certificate \\\n",
        "    https://storage.googleapis.com/mledu-datasets/cats_and_dogs_filtered.zip \\\n",
        "    -O cats_and_dogs_filtered.zip\n",
        "!unzip -qq cats_and_dogs_filtered.zip"
      ]
    },
    {
      "cell_type": "markdown",
      "metadata": {
        "id": "FPCompvTapDI"
      },
      "source": [
        "A continuación, vamos a cargar las dependencias que emplearemos a lo largo del cuaderno:"
      ]
    },
    {
      "cell_type": "code",
      "execution_count": null,
      "metadata": {
        "colab": {
          "base_uri": "https://localhost:8080/"
        },
        "id": "46gsnz3Sar5P",
        "outputId": "abd34732-d4cd-49f7-cae0-520bb397e6d8"
      },
      "outputs": [],
      "source": [
        "from IPython import display         # Gestión de la salida en el cuaderno.\n",
        "import matplotlib.pyplot as plt     # Graficado de las imágenes por pantalla.\n",
        "import numpy as np                  # Creación de tensores. \n",
        "from sklearn import metrics         # Cálculo de métricas\n",
        "import tensorflow.keras as K        # Construcción de modelos CNN.\n",
        "import time                         # Espera entre el graficado de imágenes.\n",
        "\n",
        "%matplotlib inline"
      ]
    },
    {
      "cell_type": "markdown",
      "metadata": {},
      "source": [
        "A continuación, cargaremos las imágenes del conjunto de datos. El conjunto de entrenamiento se empleará para aprender los parámetros del modelo, mientras que el de validación se empleará para comprobar la calidad de la clasificación. Todas las imágenes tienen un formato de 150x150 píxeles."
      ]
    },
    {
      "cell_type": "code",
      "execution_count": null,
      "metadata": {},
      "outputs": [],
      "source": [
        "# Conjunto de entrenamiento.\n",
        "train = K.preprocessing.image_dataset_from_directory('cats_and_dogs_filtered/train/', \n",
        "                                                     image_size=(150, 150), \n",
        "                                                     label_mode='binary')\n",
        "# Conjunto de validación.                                                     \n",
        "valid = K.preprocessing.image_dataset_from_directory('cats_and_dogs_filtered/validation/', \n",
        "                                                     image_size=(150, 150), \n",
        "                                                     label_mode='binary')\n",
        "classes = train.class_names"
      ]
    },
    {
      "cell_type": "markdown",
      "metadata": {},
      "source": [
        "A continuación, emplearemos un código que mostrará las imágenes del conjunto de entrenamiento una a una, junto con su etiqueta. Este código no es particularmente importante, pues solo sirve para dibujar las imágenes:"
      ]
    },
    {
      "cell_type": "code",
      "execution_count": null,
      "metadata": {},
      "outputs": [],
      "source": [
        "try:\n",
        "    for ims in train.as_numpy_iterator():\n",
        "        for i in range(len(ims[0])):\n",
        "          plt.gca().cla() \n",
        "          plt.imshow(ims[0][i].astype(np.uint8))\n",
        "          plt.text(x=160, y=20, s=classes[int(ims[1][i])], fontsize=30)\n",
        "          display.clear_output(wait=True)\n",
        "          display.display(plt.gcf()) \n",
        "          time.sleep(1)\n",
        "except KeyboardInterrupt:\n",
        "    pass\n",
        "display.clear_output(wait=True)"
      ]
    },
    {
      "cell_type": "markdown",
      "metadata": {},
      "source": [
        "## Diseño de la red convolucional\n",
        "\n",
        "Empleando Keras, vamos a diseñar una red de neuronas sencilla, simplemente apilando capas una tras otra (modelo secuencial). En este caso, vamos a emplear la siguiente arquitectura:"
      ]
    },
    {
      "cell_type": "markdown",
      "metadata": {},
      "source": [
        "+ **Tres capas convolucionales** con 16, 32 y 64 filtros respectivamente, de tamaño 3x3 y función de activación **ReLU**.\n",
        "+ Cada capa convolucional estará seguida de una capa de **max pooling** de tamaño 2x2, que permite reducir la dimensionalidad mediante una agregación local.\n",
        "+ Tras estas capas, se _aplanará_ la salida y se introducirá a **una capa densa** con 512 neuronas y función de activación **ReLU**, sobre cuya salida se realizará un **dropout** del 50%.\n",
        "+ Finalmente, la capa de salida tendrá una única neurona con función de activación sigmoidal."
      ]
    },
    {
      "cell_type": "code",
      "execution_count": null,
      "metadata": {},
      "outputs": [],
      "source": [
        "\"\"\"\n",
        "Creamos el modelo secuencial\n",
        "\"\"\"\n",
        "model = K.Sequential()\n",
        "\n",
        "\"\"\"\n",
        "Añadimos la capa de entrada.\n",
        "Recordemos que las imágenes son RGB con tamaño 150x150\n",
        "\"\"\"\n",
        "model.add(K.layers.InputLayer(input_shape=(150, 150, 3)))\n",
        "\n",
        "\"\"\"\n",
        "Vamos a reescalar los valores de los píxeles en el rango 0-1\n",
        "\"\"\"\n",
        "model.add(K.layers.experimental.preprocessing.Rescaling(1./255))\n",
        "\n",
        "\"\"\"\n",
        "Añadimos la primera capa convolucional seguida de max-pooling\n",
        "Debe tener 16 filtros de tamaño 3x3 y activación ReLU\n",
        "\"\"\"\n",
        "model.add(K.layers.Conv2D(16, 3, activation='relu'))\n",
        "model.add(K.layers.MaxPooling2D(2))\n",
        "\n",
        "\"\"\"\n",
        "Añadimos la segunda capa convolucional seguida de max-pooling\n",
        "Debe tener 32 filtros de tamaño 3x3 y activación ReLU\n",
        "\"\"\"\n",
        "model.add(K.layers.Conv2D(32, 3, activation='relu'))\n",
        "model.add(K.layers.MaxPooling2D(2))\n",
        "\n",
        "\"\"\"\n",
        "Añadimos la tercera capa convolucional seguida de max-pooling\n",
        "Debe tener 64 filtros de tamaño 3x3 y activación ReLU\n",
        "\"\"\"\n",
        "model.add(K.layers.Conv2D(64, 3, activation='relu'))\n",
        "model.add(K.layers.MaxPooling2D(2))\n",
        "\n",
        "\"\"\"\n",
        "Añadimos la capa que «aplana» la salida de la red para introducirla\n",
        "a una secuencia de capas densas\n",
        "\"\"\"\n",
        "model.add(K.layers.Flatten())\n",
        "\n",
        "\"\"\"\n",
        "Añadimos la capa densa con 512 neuronas y activación ReLU\n",
        "seguida de una capa de «dropout» del 50%\n",
        "\"\"\"\n",
        "model.add(K.layers.Dense(512, activation='relu'))\n",
        "model.add(K.layers.Dropout(0.5))\n",
        "\n",
        "\"\"\"\n",
        "Añadimos la capa de salida, con una neurona y activación sigmoidal\n",
        "\"\"\"\n",
        "model.add(K.layers.Dense(1, activation='sigmoid'))\n",
        "\n",
        "\"\"\"\n",
        "Imprimimos el resumen del modelo\n",
        "\"\"\"\n",
        "model.summary()"
      ]
    },
    {
      "cell_type": "markdown",
      "metadata": {},
      "source": [
        "## Entrenamiento del modelo\n",
        "\n",
        "Una vez definida la arquitectura, podemos comenzar con el entrenamiento. Para ello, debemos indicar el optimizador que queremos emplear y los datos de entrada. En este caso, emplearemos **binary_crossentropy** como función de error (o _loss function_), **RMSProp** como optimizador y mostraremos la tasa de aciertos (o _accuracy_) como métrica durante el entrenamiento. \n",
        "\n",
        "El modelo lo entrenaremos durante 20 iteraciones, con el fin de no extender demasiado el tiempo de ejecución."
      ]
    },
    {
      "cell_type": "code",
      "execution_count": null,
      "metadata": {},
      "outputs": [],
      "source": [
        "\"\"\"\n",
        "Compilamos el modelo construido.\n",
        "\"\"\"\n",
        "model.compile(loss='binary_crossentropy', optimizer='RMSprop', metrics=['accuracy'])\n",
        "\n",
        "\"\"\"\n",
        "Vamos a crear un «callback» que guarde el mejor modelo obtenido durante el entrenamiento\n",
        "\"\"\"\n",
        "checkpoint = K.callbacks.ModelCheckpoint('model.h5', monitor='val_accuracy', save_best_only=True, mode='auto')  \n",
        "\n",
        "\"\"\"\n",
        "Entrenamos el modelo. Nos aseguraremos de introducir el conjunto de entrenamiento y también los datos\n",
        "de validación, que servirán para calcular la tasa de aciertos en cada iteración\n",
        "\"\"\"\n",
        "model.fit(train, epochs=20, validation_data=valid, verbose=1, callbacks=[checkpoint])"
      ]
    },
    {
      "cell_type": "markdown",
      "metadata": {},
      "source": [
        "## Evaluación del modelo\n",
        "\n",
        "Finalmente, evaluaremos la tasa de aciertos del modelo y mostraremos la matriz de confusión, que nos indicará cómo son los aciertos y errores cometidos por el modelo:"
      ]
    },
    {
      "cell_type": "code",
      "execution_count": null,
      "metadata": {},
      "outputs": [],
      "source": [
        "\"\"\"\n",
        "Cargamos el mejor modelo encontrado durante el entrenamiento\n",
        "\"\"\"\n",
        "model = K.models.load_model('model.h5')\n",
        "\n",
        "\"\"\"\n",
        "Calculamos la tasa de acierto del modelo.\n",
        "\"\"\"\n",
        "acc = model.evaluate(valid)\n",
        "\n",
        "\"\"\"\n",
        "Imprimimos la tasa de aciertos\n",
        "\"\"\"\n",
        "print(\"Tasa de aciertos sobre validación: {:.2f}%\".format(acc[1] * 100))\n",
        "\n",
        "\"\"\"\n",
        "A continuación, vamos a visualizar la matriz de confusión.\n",
        "Esta matriz nos indica cuántos errores hay de cada tipo.\n",
        "\"\"\"\n",
        "X_test, y_test = np.array([]).reshape(-1, 150, 150, 3), np.array([]).reshape(-1, 1)\n",
        "for X, y in valid:\n",
        "    X_test = np.concatenate([X_test, X])\n",
        "    y_test = np.concatenate([y_test, y])\n",
        "y_prob = model.predict(X_test)\n",
        "y_pred = np.round(y_prob)\n",
        "cm = metrics.confusion_matrix(y_test, y_pred)\n",
        "cm = metrics.ConfusionMatrixDisplay(confusion_matrix=cm, display_labels=classes)\n",
        "cm.plot(values_format='', cmap='Blues')"
      ]
    },
    {
      "cell_type": "markdown",
      "metadata": {},
      "source": [
        "Para finalizar, podremos mostrar las imágenes del conjunto de validación, junto con su predicción:"
      ]
    },
    {
      "cell_type": "code",
      "execution_count": null,
      "metadata": {},
      "outputs": [],
      "source": [
        "try:\n",
        "    for X, y, yp in zip(X_test, y_test, y_pred):\n",
        "        plt.gca().cla() \n",
        "        plt.imshow(X.astype(np.uint8))\n",
        "        plt.text(x=160, y=20, s=classes[int(yp)], fontsize=30,\n",
        "                  color='green' if yp == y else 'red')\n",
        "        display.clear_output(wait=True)\n",
        "        display.display(plt.gcf()) \n",
        "        time.sleep(1)\n",
        "except KeyboardInterrupt:\n",
        "    pass\n",
        "display.clear_output(wait=True)"
      ]
    },
    {
      "cell_type": "markdown",
      "metadata": {
        "id": "om7Bd4-nTTdd"
      },
      "source": [
        "¡Voilá! En poco tiempo hemos conseguido un modelo capaz de distinguir razonablemente bien las fotos de perros y gatos. Ahora bien, ¿podemos mejorar este modelo aún más? ¡Definitivamente sí! Pero eso es algo que dejaremos para otra ocasión..."
      ]
    },
    {
      "cell_type": "markdown",
      "metadata": {
        "id": "k_giDDsqGPk0"
      },
      "source": [
        "#### Aprende más:\n",
        "+ Más información sobre el problema de clasificación y algunos algoritmos (en inglés): https://towardsdatascience.com/machine-learning-classifiers-a5cc4e1b0623\n",
        "+ Más información básica sobre redes de neuronas convolucionales (en inglés): https://towardsdatascience.com/a-comprehensive-guide-to-convolutional-neural-networks-the-eli5-way-3bd2b1164a53\n",
        "+ Más información, con ejemplos de código, sobre redes de neuronas convolucionales (en inglés): https://towardsdatascience.com/convolutional-neural-networks-e5a6745b2810"
      ]
    },
    {
      "cell_type": "markdown",
      "metadata": {
        "cellView": "form",
        "colab": {
          "base_uri": "https://localhost:8080/",
          "height": 164
        },
        "id": "_pnxyI6QQ7Kd",
        "outputId": "f1ead2d7-6289-4b1c-ea62-7373f10d9bd1"
      },
      "source": [
        "<h2>Acerca del autor</h2>\n",
        "\n",
        "<img src=\"https://blog.noaxacademy.com/wp-content/uploads/2021/11/Alejandro_Baldominos-1024x576.jpeg\" width=\"30%\" alt=\"Alejandro Baldominos\"\n",
        " style=\"float:left; margin-right: 1em;\">\n",
        "<div style=\"width:30%\">\n",
        "<h2>Alejandro Baldominos</h2>\n",
        "<p>Doctor en Ciencia y Tecnología Informática por la Universidad Carlos III de Madrid. Docente, investigador, y colaborador con varias empresas tecnológicas. Me apasiona la ciencia de datos, el machine learning y la inteligencia artificial. También disfruto enseñando programación «bien», es decir, explicando cómo tomar las mejores decisiones para que nuestros programas sean lo mejor posible.</p>\n",
        "</div>"
      ]
    },
    {
      "cell_type": "markdown",
      "metadata": {
        "id": "vgxvWYsqS4CR"
      },
      "source": [
        " © 2021 NOAX Academy. Todos los derechos reservados. "
      ]
    }
  ],
  "metadata": {
    "colab": {
      "collapsed_sections": [],
      "name": "noax_academy_blog_lists_vs_sets_2",
      "provenance": []
    },
    "kernelspec": {
      "display_name": "Python 3",
      "name": "python3"
    },
    "language_info": {
      "codemirror_mode": {
        "name": "ipython",
        "version": 3
      },
      "file_extension": ".py",
      "mimetype": "text/x-python",
      "name": "python",
      "nbconvert_exporter": "python",
      "pygments_lexer": "ipython3",
      "version": "3.9.9"
    }
  },
  "nbformat": 4,
  "nbformat_minor": 0
}
