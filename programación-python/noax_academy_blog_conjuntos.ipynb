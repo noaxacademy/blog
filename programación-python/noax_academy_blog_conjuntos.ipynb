{
  "cells": [
    {
      "cell_type": "markdown",
      "metadata": {
        "id": "MVGrDPr4SQI_"
      },
      "source": [
        "![noaxacademy.png](data:image/png;base64,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)"
      ]
    },
    {
      "cell_type": "markdown",
      "metadata": {
        "id": "gi2qMNHVSeoI"
      },
      "source": [
        "# Claves para entender los conjuntos en Python\n",
        "#### **Alejandro Baldominos** \n",
        "\n",
        "Este cuaderno complementa al artículo del blog de NOAX Academy. [¡Léelo ahora!](https://blog.noaxacademy.com/claves-para-entender-los-conjuntos-en-python/).\n"
      ]
    },
    {
      "cell_type": "markdown",
      "metadata": {
        "id": "vS-tjeADZ4n_"
      },
      "source": [
        "## La forma mejor: funciones hash"
      ]
    },
    {
      "cell_type": "markdown",
      "metadata": {
        "id": "3-4AXK3GEaoK"
      },
      "source": [
        "Una forma mejor de encontrar un elemento en una colección es si sabemos dónde puede estar. Imagina que le decimos a Python: «*Python, dime si \"Carla\" está en mi colección*». Supongamos entonces que Python, en lugar de buscar a Carla desde el principio hasta el final, tuviera un mecanismo mágico que le permitiera saber que, si el valor `\"Carla\"` estuviera en nuestra colección, entonces estaría en la posición 4. Entonces, va directo a esa posición y... ¡ahí está Carla!\n",
        "\n",
        "Pues bien, este **mecanismo mágico existe** y tiene un nombre: función hash.\n",
        "\n",
        "Una función hash no es más que una función matemática que recibe un valor de cualquier tipo como entrada y devuelve como salida un valor numérico. Existen multitud de funciones hash, pero en este artículo no vamos a entrar en detalles sobre la implementación de estas funciones. Basta con saber que existen, y esta existencia se puede comprobar fácilmente:"
      ]
    },
    {
      "cell_type": "code",
      "execution_count": null,
      "metadata": {
        "colab": {
          "base_uri": "https://localhost:8080/"
        },
        "id": "ebQQQrtZaaXG",
        "outputId": "0825c994-240d-4d26-944f-e3886b952993"
      },
      "outputs": [
        {
          "data": {
            "text/plain": [
              "-2894416677657974412"
            ]
          },
          "execution_count": 9,
          "metadata": {
            "tags": []
          },
          "output_type": "execute_result"
        }
      ],
      "source": [
        "hash(\"Carla\")"
      ]
    },
    {
      "cell_type": "markdown",
      "metadata": {
        "id": "FPCompvTapDI"
      },
      "source": [
        "_Este valor puede cambiar en diferentes sesiones de Python._\n",
        "\n",
        "Una peculiaridad de estas funciones es que, normalmente, si la entrada cambia un poco, entonces el valor de salida cambia mucho:"
      ]
    },
    {
      "cell_type": "code",
      "execution_count": null,
      "metadata": {
        "colab": {
          "base_uri": "https://localhost:8080/"
        },
        "id": "46gsnz3Sar5P",
        "outputId": "abd34732-d4cd-49f7-cae0-520bb397e6d8"
      },
      "outputs": [
        {
          "data": {
            "text/plain": [
              "3299763663277594160"
            ]
          },
          "execution_count": 10,
          "metadata": {
            "tags": []
          },
          "output_type": "execute_result"
        }
      ],
      "source": [
        "hash(\"Carlo\")"
      ]
    },
    {
      "cell_type": "markdown",
      "metadata": {
        "id": "RCzMvieUavCL"
      },
      "source": [
        "_Este valor puede cambiar en diferentes sesiones de Python._\n",
        "\n",
        "Vale, muy bonito. **¿Pero qué tiene todo esto que ver con buscar si \"Carla\" está en la lista de asistentes de forma rápida?** ¡Pues tiene que verlo casi todo! Sin embargo, nos queda una pieza en este asunto, y es la que ilustra el título del post."
      ]
    },
    {
      "cell_type": "markdown",
      "metadata": {
        "id": "GG_kJ98dbLMK"
      },
      "source": [
        "## Los conjuntos vienen al rescate"
      ]
    },
    {
      "cell_type": "markdown",
      "metadata": {
        "id": "om7Bd4-nTTdd"
      },
      "source": [
        "Un conjunto tiene cierto parecido con una lista: también es una colección que permite almacenar varios elementos. En Python, es fácil inicializar un conjunto con varios elementos:"
      ]
    },
    {
      "cell_type": "code",
      "execution_count": null,
      "metadata": {
        "id": "VXly0-C1TSiw"
      },
      "outputs": [],
      "source": [
        "conjunto = {\"Hola\", 1, \"mundo\", 1, \"Hola\", 2, 3, \"Adiós\"}"
      ]
    },
    {
      "cell_type": "markdown",
      "metadata": {
        "id": "UVcXtPVQU5Ch"
      },
      "source": [
        "Ahora bien, los conjuntos tienen dos diferencias importantes con las listas, que son fáciles de comprobar de primera mano.\n",
        "\n",
        "**¿Cuál es el tamaño del conjunto que acabamos de crear?** Tiene 8 elementos, ¿verdad? Igual que la lista que creamos al principio. Vamos a comprobarlo:"
      ]
    },
    {
      "cell_type": "code",
      "execution_count": null,
      "metadata": {
        "colab": {
          "base_uri": "https://localhost:8080/"
        },
        "id": "9z7wzKWegOl6",
        "outputId": "acad90cb-b38d-4155-95cf-358bb0c9de20"
      },
      "outputs": [
        {
          "data": {
            "text/plain": [
              "6"
            ]
          },
          "execution_count": 12,
          "metadata": {
            "tags": []
          },
          "output_type": "execute_result"
        }
      ],
      "source": [
        "len(conjunto)"
      ]
    },
    {
      "cell_type": "markdown",
      "metadata": {
        "id": "yzOV-b7VVkWO"
      },
      "source": [
        "Vaya, ¡pues no! Resulta que el conjunto solo tiene seis elementos. ¿Cómo puede ser? Vamos a comprobar qué pasa..."
      ]
    },
    {
      "cell_type": "code",
      "execution_count": null,
      "metadata": {
        "colab": {
          "base_uri": "https://localhost:8080/"
        },
        "id": "6bnmfaW1VkwZ",
        "outputId": "ff730d81-fd91-4770-f531-cb60655e5c79"
      },
      "outputs": [
        {
          "data": {
            "text/plain": [
              "{1, 2, 3, 'Adiós', 'Hola', 'mundo'}"
            ]
          },
          "execution_count": 13,
          "metadata": {
            "tags": []
          },
          "output_type": "execute_result"
        }
      ],
      "source": [
        "conjunto"
      ]
    },
    {
      "cell_type": "markdown",
      "metadata": {
        "id": "myDff01BW_uI"
      },
      "source": [
        "Ahh, ¡ya vemos lo que pasa! La primera diferencia de un conjunto con una lista es que los conjuntos no admiten elementos duplicados. Aunque intentamos añadir dos veces el número 1 y otras dos veces la cadena \"Hola\" al conjunto, lo cierto es que solo aparecen un vez.\n",
        "\n",
        "Otra cosa que observamos es que los elementos no aparecen en el orden en el que los hemos declarado. ¿Puede que sea casualidad? Vamos a añadir un elemento más, a ver qué ocurre:"
      ]
    },
    {
      "cell_type": "code",
      "execution_count": null,
      "metadata": {
        "colab": {
          "base_uri": "https://localhost:8080/"
        },
        "id": "dhnoapNMXHU6",
        "outputId": "937374c2-01aa-4c23-df97-d7e095b7c56c"
      },
      "outputs": [
        {
          "data": {
            "text/plain": [
              "{1, 2, 3, 'Adiós', 'Hola', 'Qué tal?', 'mundo'}"
            ]
          },
          "execution_count": 14,
          "metadata": {
            "tags": []
          },
          "output_type": "execute_result"
        }
      ],
      "source": [
        "conjunto.add(\"Qué tal?\")\n",
        "conjunto"
      ]
    },
    {
      "cell_type": "markdown",
      "metadata": {
        "id": "tTcjjv8TXumO"
      },
      "source": [
        "Vaya, parece que el nuevo elemento no se ha añadido al final, ¿no? Vamos a asegurarnos, comprobando cuál es el último elemento:"
      ]
    },
    {
      "cell_type": "code",
      "execution_count": null,
      "metadata": {
        "colab": {
          "base_uri": "https://localhost:8080/",
          "height": 164
        },
        "id": "EUfolWQ4XvSv",
        "outputId": "d87d67a2-99cc-4284-9d7f-a2ee2f0832d7"
      },
      "outputs": [
        {
          "ename": "TypeError",
          "evalue": "ignored",
          "output_type": "error",
          "traceback": [
            "\u001b[0;31m---------------------------------------------------------------------------\u001b[0m",
            "\u001b[0;31mTypeError\u001b[0m                                 Traceback (most recent call last)",
            "\u001b[0;32m<ipython-input-15-fd408cf48233>\u001b[0m in \u001b[0;36m<module>\u001b[0;34m()\u001b[0m\n\u001b[0;32m----> 1\u001b[0;31m \u001b[0mconjunto\u001b[0m\u001b[0;34m[\u001b[0m\u001b[0;34m-\u001b[0m\u001b[0;36m1\u001b[0m\u001b[0;34m]\u001b[0m\u001b[0;34m\u001b[0m\u001b[0;34m\u001b[0m\u001b[0m\n\u001b[0m",
            "\u001b[0;31mTypeError\u001b[0m: 'set' object is not subscriptable"
          ]
        }
      ],
      "source": [
        "conjunto[-1]"
      ]
    },
    {
      "cell_type": "markdown",
      "metadata": {
        "id": "_DH-hb7NYphf"
      },
      "source": [
        "**¡Catástrofe!** Resulta que Python no nos deja acceder al último elemento de un conjunto... ni al primero, ni al segundo. Esta es la segunda gran diferencia con las listas: los conjuntos no están ordenados, es decir, los elementos no ocupan una posición concreta en el conjunto."
      ]
    },
    {
      "cell_type": "markdown",
      "metadata": {
        "id": "hUlUD8FrYspR"
      },
      "source": [
        "## ¿Qué narices es un conjunto?\n",
        "\n",
        "\n",
        "\n",
        "\n",
        "\n"
      ]
    },
    {
      "cell_type": "markdown",
      "metadata": {
        "id": "FyISS5f5EgU2"
      },
      "source": [
        "\n",
        "Si has leído hasta aquí, te habrás dado cuenta de que te he ido vendiendo los conjuntos como una especie de artefacto mágico, pero tu poca experiencia con ellos es que son más bien una especie de lista lastrada, que no permite almacenar elementos duplicados ni acceder a ellos por su posición. ¿Acaso tienen alguna ventaja estos trastos?\n",
        "\n",
        "¡Pues sí! Pero para ello hay que entender por qué los conjuntos tienen estas extrañas limitaciones. ¡Y las funciones hash juegan un papel importante en ello! Para explicarlo, vamos a responder a la siguiente pregunta: **¿cómo almacena los datos un conjunto?**\n",
        "\n",
        "Para entenderlo, veamos la siguiente figura:\n",
        "\n",
        "![Almacenamiento en memoria RAM de un conjunto en Python](http://blog.noaxacademy.com/wp-content/uploads/2021/09/noax_academy_blog_baldo_collections_sets_memory.svg)\n",
        "**Figura 2 |** Almacenamiento de un conjunto de Python en memoria RAM. Python reserva espacio consecutivo para alojar los punteros incluso cuando no hay elementos en el conjunto. Para determinar la posicion en la que se almacena un elemento, se calcula su función hash.\n",
        "\n",
        "¿Qué está ocurriendo aquí realmente? El proceso es un poco más complicado que el de una lista, así que vamos a verlo con más detalle:\n",
        "\n",
        "1.   Python reserva unas ciertas posiciones de memoria consecutivas incluso cuando el conjunto se crea vacío. A estas posiciones (o bloques) se les denomina «espacio de bloques». En versiones recientes de Python, un conjunto vacío tiene un espacio de ocho bloques (como en la Figura 2).\n",
        "2.   Cuando queremos añadir un elemento al conjunto, Python emplea la función hash para obtener un número.\n",
        "3.   Este número es (casi) la posición del conjunto en la que Python almacenará el valor.\n",
        "\n",
        "Pero vamos a ver, ¿cómo que este número es la posición? ¡Si el conjunto tiene ocho bloques, y el número es -289...412! Vale, es cierto, de ahí el «casi» del paso 3. Normalmente, el resultado del hash será un número que esté fuera del rango del espacio de bloques. Pero Python, que es listo, sabe que hay una forma fácil de hacer que este número sea un valor entre 0 y 7. Basta con coger los tres últimos bits del número (tres bits son ocho posibles valores, ya que $2^3 = 8$, aquellos entre el 0 y el 7). En Python, obtener los tres últimos bits de un número es una operación que puede hacerse fácilmente aplicando lo que se conoce como una «máscara de bits». Por ejemplo, veamos que pasa con el valor `\"Carla\"`:\n"
      ]
    },
    {
      "cell_type": "code",
      "execution_count": null,
      "metadata": {
        "colab": {
          "base_uri": "https://localhost:8080/"
        },
        "id": "C0xRiwxhm63E",
        "outputId": "0b6952ce-2a70-4149-de79-9f72a563e9d7"
      },
      "outputs": [
        {
          "data": {
            "text/plain": [
              "4"
            ]
          },
          "execution_count": 16,
          "metadata": {
            "tags": []
          },
          "output_type": "execute_result"
        }
      ],
      "source": [
        "hash(\"Carla\") & 0b111"
      ]
    },
    {
      "cell_type": "markdown",
      "metadata": {
        "id": "V9zhf0MA2sjB"
      },
      "source": [
        "_Este valor puede cambiar en diferentes sesiones de Python._\n",
        "\n",
        "¡Listo! Al aplicar la máscara de bits, obtenemos el valor 4. Entonces, Python almacenará la cadena `\"Carla\"` en algún lugar de la memoria RAM, y creará un puntero a esa posición en el cuarto bloque del conjunto. \n",
        "\n",
        "Pero **ahora viene lo interesante**. ¿Qué tenemos que hacer si queremos saber si Carla ha asistido a clase? **¡Simplemente, lo mismo!** En lugar de buscar a Carla de principio a fin, bastará con calcular su valor hash, aplicar la máscara de bits y, sabiendo que tiene que estar en la posición 4, ¡iremos directamente a esa posición para ver si está allí! \n",
        "\n",
        "Es decir, que en lugar de tener que buscar por toda la lista (lo que requiere un acceso a memoria por cada elemento de la lista), podemos ir directamente a la posición en la que sabemos que puede estar: **¡solo un acceso!**\n",
        "\n",
        "---------\n",
        "__Otra pequeña reflexión__\n",
        "\n",
        "Es posible que te estés preguntando: ¿es posible que dos elementos distintos vayan a parar al mismo bloque? Eso es algo que puede ocurrir. Python tiene dos mecanismos para gestionar estos casos. \n",
        "\n",
        "El primero consiste en redimensionar el tamaño de bloques cuando se alcanzan 2/3 de su capacidad. En nuestro ejemplo de 8 bloques, si insertamos 5 elementos, Python multiplicará por cuatro la capacidad espacio de bloques (a 32 bloques). Este proceso se repite según el conjunto se va llenando.\n",
        "\n",
        "El segundo mecanismo es lo que se denomina *probing*: si el valor hay que almacenarlo en un bloque que ya está ocupado, se calcula un nuevo bloque. No vamos a entrar en detalles de cómo se realiza este proceso.\n",
        "\n",
        "---------\n",
        "\n",
        "¡Ya sabemos cómo funcionan los conjuntos! Ahora, si tienes curiosidad (o directamente no te crees nada de lo que te he contado), vamos a poner esto en práctica y así podrás comprobarlo con tus propios ojos."
      ]
    },
    {
      "cell_type": "markdown",
      "metadata": {
        "id": "7szi5amb3uaw"
      },
      "source": [
        "## Listas vs. conjuntos: la lucha final"
      ]
    },
    {
      "cell_type": "markdown",
      "metadata": {
        "id": "tWUrs60wEjaN"
      },
      "source": [
        "Para comprobar que todo lo que hemos visto sobre listas y conjuntos no es un *invent*, vamos a hacer dos cosas: medir memoria y medir tiempo.\n",
        "\n",
        "Para medir memoria emplearemos la función `sys.getsizeof()`, que nos proporciona la memoria ocupada por un objeto en Python. Por ejemplo:"
      ]
    },
    {
      "cell_type": "code",
      "execution_count": null,
      "metadata": {
        "colab": {
          "base_uri": "https://localhost:8080/"
        },
        "id": "Q8iuc05r5-Bv",
        "outputId": "357bbe91-f2b4-4213-f882-29a1987fdb0b"
      },
      "outputs": [
        {
          "name": "stdout",
          "output_type": "stream",
          "text": [
            "El tamaño de una lista vacía es de 72 bytes.\n",
            "El tamaño de un conjunto vacío es de 232 bytes.\n"
          ]
        }
      ],
      "source": [
        "import sys\n",
        "l = list()\n",
        "s = set()\n",
        "print(f\"El tamaño de una lista vacía es de {sys.getsizeof(l)} bytes.\")\n",
        "print(f\"El tamaño de un conjunto vacío es de {sys.getsizeof(s)} bytes.\")"
      ]
    },
    {
      "cell_type": "markdown",
      "metadata": {
        "id": "boCowUaN5_x7"
      },
      "source": [
        "Aunque estos valores pueden depender según la versión de Python e incluso el ordenador en el que se ejecute, se observa claramente que el conjunto ocupa más tamaño, incluso estando vacío. ¡Esto se debe a que el conjunto tiene ya un espacio de bloques pre-reservado!\n",
        "\n",
        "A continuación, vamos a usar  `%%timeit` para medir el tiempo que lleva insertar 1 millón de elementos en ambas colecciones. Los elementos que vamos a introducir son los números del 1 a 1.000.000. Comencemos con la lista:"
      ]
    },
    {
      "cell_type": "code",
      "execution_count": null,
      "metadata": {
        "colab": {
          "base_uri": "https://localhost:8080/"
        },
        "id": "vmBRdQXH595H",
        "outputId": "bd68c8c5-7bae-45bc-bf52-a42a229e6f75"
      },
      "outputs": [
        {
          "name": "stdout",
          "output_type": "stream",
          "text": [
            "1 loop, best of 5: 1.42 s per loop\n"
          ]
        }
      ],
      "source": [
        "%%timeit \n",
        "l = list()\n",
        "for i in range(10000000):\n",
        "  l.append(i+1)"
      ]
    },
    {
      "cell_type": "markdown",
      "metadata": {
        "id": "Xvqe-zqu5-y-"
      },
      "source": [
        "Observamos que insertar 10 millones de elementos en la lista tarda unos 1,42 segundos. ¿Qué ocurrirá con un conjunto? Vamos a verlo:\n",
        "\n"
      ]
    },
    {
      "cell_type": "code",
      "execution_count": null,
      "metadata": {
        "colab": {
          "base_uri": "https://localhost:8080/"
        },
        "id": "CCHQ2WWn59vH",
        "outputId": "49642e14-cb7b-4634-a095-3b4a4bad6d05"
      },
      "outputs": [
        {
          "name": "stdout",
          "output_type": "stream",
          "text": [
            "1 loop, best of 5: 1.51 s per loop\n"
          ]
        }
      ],
      "source": [
        "%%timeit \n",
        "s = set()\n",
        "for i in range(10000000):\n",
        "  s.add(i+1)"
      ]
    },
    {
      "cell_type": "markdown",
      "metadata": {
        "id": "TBk5Za1t5_Fn"
      },
      "source": [
        "¡Casi lo mismo! En realidad, la inserción en el conjunto es un poco más lenta, porque se debe realizar el cálculo de la función hash. Sin embargo, puede observarse que no existen grandes diferencias.\n",
        "\n",
        "¿Cuánto ocupará ahora cada objeto en memoria? Vamos a verlo:"
      ]
    },
    {
      "cell_type": "code",
      "execution_count": null,
      "metadata": {
        "colab": {
          "base_uri": "https://localhost:8080/"
        },
        "id": "K5JnXmVu59gO",
        "outputId": "c2a1cbdc-a352-4f6c-a7d6-17015fbd40bb"
      },
      "outputs": [
        {
          "name": "stdout",
          "output_type": "stream",
          "text": [
            "El tamaño de la lista es de 85.83 MB.\n",
            "El tamaño del conjunto es de 256.00 MB.\n"
          ]
        }
      ],
      "source": [
        "l = list([i + 1 for i in range(10000000)])\n",
        "s = set(l)\n",
        "size_l = sys.getsizeof(l) / 1024 / 1024\n",
        "size_s = sys.getsizeof(s) / 1024 / 1024\n",
        "print(f\"El tamaño de la lista es de {size_l:.2f} MB.\")\n",
        "print(f\"El tamaño del conjunto es de {size_s:.2f} MB.\")"
      ]
    },
    {
      "cell_type": "markdown",
      "metadata": {
        "id": "RpsTmmOI_JyG"
      },
      "source": [
        "Podemos observar como el conjunto ocupa mucho más que la lista, **¡justo como esperábamos!** Al final, el conjunto tiene reservado un espacio de bloques mucho mayor, a pesar de que muchos de esos bloques estarán vacíos. Ahora bien, vamos a ver qué ocurre cuando buscamos si un elemento está en la lista:"
      ]
    },
    {
      "cell_type": "code",
      "execution_count": null,
      "metadata": {
        "colab": {
          "base_uri": "https://localhost:8080/"
        },
        "id": "BaXSeQU-_KF7",
        "outputId": "0bbee6be-a826-40fd-e2a9-a6654efeb581"
      },
      "outputs": [
        {
          "name": "stdout",
          "output_type": "stream",
          "text": [
            "The slowest run took 35.07 times longer than the fastest. This could mean that an intermediate result is being cached.\n",
            "10000000 loops, best of 5: 48.6 ns per loop\n"
          ]
        }
      ],
      "source": [
        "%%timeit\n",
        "1 in l"
      ]
    },
    {
      "cell_type": "markdown",
      "metadata": {
        "id": "tltnlb65_OFq"
      },
      "source": [
        "Ahora, haremos lo mismo para nuestro conjunto:\n",
        "\n"
      ]
    },
    {
      "cell_type": "code",
      "execution_count": null,
      "metadata": {
        "colab": {
          "base_uri": "https://localhost:8080/"
        },
        "id": "e2Q2HtsZ_PVI",
        "outputId": "ff2f2909-9d5d-4884-df26-44c9a347b6ac"
      },
      "outputs": [
        {
          "name": "stdout",
          "output_type": "stream",
          "text": [
            "The slowest run took 56.86 times longer than the fastest. This could mean that an intermediate result is being cached.\n",
            "10000000 loops, best of 5: 52 ns per loop\n"
          ]
        }
      ],
      "source": [
        "%%timeit\n",
        "1 in s"
      ]
    },
    {
      "cell_type": "markdown",
      "metadata": {
        "id": "1Xl4se0L_PmG"
      },
      "source": [
        "***¡Pero qué estafa es esta!*** Habíamos prometido que la búsqueda en el conjunto sería más rápida y, sin embargo, no lo es. De hecho, ¡es un poco más lenta!\n",
        "\n",
        "Antes de desesperarte y pensar que todo este artículo solo ha sido una pérdida de tiempo, veamos que pasa si buscamos otro valor. Por ejemplo, uno que no está en nuestras colecciones:"
      ]
    },
    {
      "cell_type": "code",
      "execution_count": null,
      "metadata": {
        "colab": {
          "base_uri": "https://localhost:8080/"
        },
        "id": "TTnsCJ9p_P60",
        "outputId": "3e4cedbe-1f74-4e4a-eb1d-616051c9d48f"
      },
      "outputs": [
        {
          "name": "stdout",
          "output_type": "stream",
          "text": [
            "10 loops, best of 5: 137 ms per loop\n"
          ]
        }
      ],
      "source": [
        "%%timeit\n",
        "0 in l"
      ]
    },
    {
      "cell_type": "code",
      "execution_count": null,
      "metadata": {
        "colab": {
          "base_uri": "https://localhost:8080/"
        },
        "id": "c-_n70cABRRn",
        "outputId": "0f468a64-4d54-44df-cc81-9b3faee3dcd0"
      },
      "outputs": [
        {
          "name": "stdout",
          "output_type": "stream",
          "text": [
            "The slowest run took 47.53 times longer than the fastest. This could mean that an intermediate result is being cached.\n",
            "10000000 loops, best of 5: 50.9 ns per loop\n"
          ]
        }
      ],
      "source": [
        "%%timeit\n",
        "0 in s"
      ]
    },
    {
      "cell_type": "markdown",
      "metadata": {
        "id": "OZuN2XEACKQE"
      },
      "source": [
        "**¡Ahora sí!** En esta ocasión, la búsqueda en el conjunto ha tardado apenas 50,9 nanosegundos (prácticamente lo mismo que la búsqueda anterior). Sin embargo, en el caso de la lista, ha tardado 137 milisegundos. Puede que nos parezca que ambas búsquedas han sido muy rápidas, pero si echamos cuentas la búsqueda en la lista es... **¡más de 2,5 millones de veces más lenta!** No, no es un error de cálculo:\n",
        "\n",
        "$$ \\frac{137\\,ms}{50.9\\,ns} = \\frac{137 \\cdot 10^{-3}}{50.9 \\cdot 10^{-9}} = 2,691,552 $$\n",
        "\n",
        "Pero, ***¿qué es lo que ha pasado?***"
      ]
    },
    {
      "cell_type": "markdown",
      "metadata": {
        "id": "2gB5s5EMGVld"
      },
      "source": [
        "## Lo que ha pasado"
      ]
    },
    {
      "cell_type": "markdown",
      "metadata": {
        "id": "ukHBff3rEngK"
      },
      "source": [
        "Lo que ha pasado ya lo hemos anticipado a lo largo del artículo, pero vamos a reflexionar un poco sobre ello. La búsqueda en una lista depende de dos cosas:\n",
        "\n",
        "+ si el elemento a buscar está en la lista o no y,\n",
        "+ si está, la posición que ocupa en la lista.\n",
        "\n",
        "Cuando hemos buscado el número 1, lo hemos encontrado muy rápidamente... ¡porque es el primer elemento de la lista! Si hubiéramos buscado un número mayor (el 10, el 100, el 1000000) veríamos que la búsqueda se demora más tiempo, porque Python debe recorrer la lista desde el principio hasta encontrar el elemento. En el peor caso, si el elemento no está en la lista, ¡Python debe recorrerla entera! Por eso el proceso de buscar el número 0 fue tan lento.\n",
        "\n",
        "En términos matemáticos diríamos que «la búsqueda en la lista tiene complejidad computacional $\\mathcal{O}(n)$, siendo $n$ el tamaño de la lista (en este caso, $n = 10,000,000$). Es otra forma de decir que el tiempo de ejecución del algoritmo requiere en el peor caso un número de operaciones (por ejemplo, accesos a memoria), que depende de $n$.\n",
        "\n",
        "Sin embargo, en el caso de un conjunto, ¡esto no es así! En el conjunto, solo tenemos que calcular el valor hash y a continuación buscar en el bloque correspondiente. Si el valor buscado está, perfecto. Si no está, pues no está, y punto. No hay que seguir buscando. Formalmente se dice que «la búsqueda en el conjunto tiene complejidad computacional $\\mathcal{O}(1)$, para indicar que el tiempo es constante, no depende del tamaño del conjunto."
      ]
    },
    {
      "cell_type": "markdown",
      "metadata": {
        "id": "FuPnbDO8CK7X"
      },
      "source": [
        "## Conclusiones"
      ]
    },
    {
      "cell_type": "markdown",
      "metadata": {
        "id": "i-RxAltsEv4v"
      },
      "source": [
        "En este artículo hemos visto dos colecciones en Python: las listas y los conjuntos. Las listas son el tipo de colección más usado, y son realmente versátiles. Los conjuntos son menos conocidos y tienen algunas limitaciones comparados con las listas. Sin embargo, son muy útiles cuando queremos realizar búsquedas eficientes en la colección.\n",
        "\n",
        "¿Todavía tienes dudas de cuándo usar una lista y cuándo es mejor emplear un conjunto? El siguiente diagrama puede ayudarte:\n",
        "\n",
        "![Diagrama de flujo para decidir si es más adecuado emplear una lista o un conjunto.](http://blog.noaxacademy.com/wp-content/uploads/2021/09/noax_academy_blog_baldo_collections_lists_decision.svg)\n",
        "**Figura 3 |** Diagrama de flujo para decidir si debemos usar una lista o un conjunto. La lista es la elección obligada cuando nos importa la posición de nuestros elementos (es decir, hay un orden), cuando deba ser posible almacenar valores duplicados, y cuando la memoria ocupada sea un aspecto crítico. Además, deberemos usar una lista si el tipo de nuestros elementos no es hasheable, es decir, no se puede calcular una función hash sobre ellos. En la práctica, los tipos habituales (números, booleanos, cadenas de texto, etc.) son hasheables. Si cumplimos las condiciones anteriores y vamos a realizar búsquedas en nuestra colección, el conjunto es la mejor opción.\n",
        "\n",
        "Espero que este artículo te haya ayudado a entender las diferencias entre estas dos colecciones, y ahora sepas cuál es la más adecuada para ti según tus necesidades. ¡Tus programas nunca habían sido tan rápidos!"
      ]
    },
    {
      "cell_type": "markdown",
      "metadata": {
        "id": "k_giDDsqGPk0"
      },
      "source": [
        "#### Aprende más:\n",
        "+  Más información sobre la implementación de las listas en Python (en inglés): http://www.laurentluce.com/posts/python-list-implementation/\n",
        "+  Más información sobre funciones hash y conjuntos en Python (en inglés): https://www.oreilly.com/library/view/high-performance-python/9781449361747/ch04.html"
      ]
    },
    {
      "cell_type": "code",
      "execution_count": null,
      "metadata": {
        "cellView": "form",
        "colab": {
          "base_uri": "https://localhost:8080/",
          "height": 164
        },
        "id": "_pnxyI6QQ7Kd",
        "outputId": "f1ead2d7-6289-4b1c-ea62-7373f10d9bd1"
      },
      "outputs": [
        {
          "data": {
            "text/html": [
              "\n",
              "<img src=\"http://blog.noaxacademy.com/wp-content/uploads/2021/06/avatar_user_2_1624228090-130x130.png\" alt=\"Alejandro Baldominos\"\n",
              " style=\"float:left; width=10%; margin-right: 1em;\">\n",
              "<div style=\"width:30%\">\n",
              "<h2>Alejandro Baldominos</h2>\n",
              "<p>Doctor en Ciencia y Tecnología Informática por la Universidad Carlos III de Madrid. Docente, investigador, y colaborador con varias empresas tecnológicas. Me apasiona la ciencia de datos, el machine learning y la inteligencia artificial. También disfruto enseñando programación «bien», es decir, explicando cómo tomar las mejores decisiones para que nuestros programas sean lo mejor posible.</p>\n",
              "</div>"
            ],
            "text/plain": [
              "<IPython.core.display.HTML object>"
            ]
          },
          "metadata": {
            "tags": []
          },
          "output_type": "display_data"
        }
      ],
      "source": [
        "#@title Acerca del autor\n",
        "%%html\n",
        "\n",
        "<img src=\"http://blog.noaxacademy.com/wp-content/uploads/2021/06/avatar_user_2_1624228090-130x130.png\" alt=\"Alejandro Baldominos\"\n",
        " style=\"float:left; width=10%; margin-right: 1em;\">\n",
        "<div style=\"width:30%\">\n",
        "<h2>Alejandro Baldominos</h2>\n",
        "<p>Doctor en Ciencia y Tecnología Informática por la Universidad Carlos III de Madrid. Docente, investigador, y colaborador con varias empresas tecnológicas. Me apasiona la ciencia de datos, el machine learning y la inteligencia artificial. También disfruto enseñando programación «bien», es decir, explicando cómo tomar las mejores decisiones para que nuestros programas sean lo mejor posible.</p>\n",
        "</div>"
      ]
    },
    {
      "cell_type": "markdown",
      "metadata": {
        "id": "vgxvWYsqS4CR"
      },
      "source": [
        " © 2021 NOAX Academy. Todos los derechos reservados. "
      ]
    }
  ],
  "metadata": {
    "colab": {
      "collapsed_sections": [],
      "name": "noax_academy_blog_lists_vs_sets_2",
      "provenance": []
    },
    "kernelspec": {
      "display_name": "Python 3",
      "name": "python3"
    },
    "language_info": {
      "name": "python"
    }
  },
  "nbformat": 4,
  "nbformat_minor": 0
}
